{
 "cells": [
  {
   "cell_type": "markdown",
   "metadata": {},
   "source": [
    "# Problema 3 - Análisis Datos Youtube - Archivo .py"
   ]
  },
  {
   "cell_type": "markdown",
   "metadata": {},
   "source": [
    "1. Descargar un archivo .zip mediante código del siguiente url (https://netsg.cs.sfu.ca/youtubedata/) (recomiendo descargar el archivo 0333.zip que es menos pesado)\n",
    "2. Descomprimir los datos en una carpeta que genere y leer mediante pandas alguno de los archivos en esta. (observar que no es necesario en un primer momento leer los datos con un nombre de columna especifico)\n",
    "\n",
    "    - Los nombres de columna pueden ser puestos posteriormente\n",
    "    - El separador de columna es <code>\\t</code>\n",
    "    - Se colocan los nombres de columnas y descripción asociada para su intermetación. Ejemplo columna1 sera VideoID ... \n",
    "    \n",
    "\n",
    "3. Procesar los datos según: \n",
    "    - Nos quedaremos con las columnas: VideoID, edad, catgoria, views, rate.\n",
    "    - Realizar un filtrado básico a los datos. Ejemplo solo seleccionar cierto grupo de categorias\n",
    "\n",
    "4. Procesamiento en Mongo Db\n",
    "    - Exportar los datos a mongo DB \n",
    "    - Crear 2 graficos con los datos \n",
    "    - Compartir link donde encontrar los datos \n",
    "\n",
    "\n"
   ]
  },
  {
   "cell_type": "markdown",
   "metadata": {},
   "source": [
    "| Nombre de la Columna | Descripción                                                                                                 |\n",
    "|----------------------|-------------------------------------------------------------------------------------------------------------|\n",
    "| `video ID`           | Una cadena de 11 dígitos, la cual es única                                                                |\n",
    "| `uploader`           | Una cadena con el nombre de usuario del cargador del video                                                  |\n",
    "| `age`                | Un número entero que representa los días transcurridos desde la fecha en que se subió el video hasta el 15 de febrero de 2007 (fecha de creación de YouTube) |\n",
    "| `category`           | Una cadena que indica la categoría del video elegida por el cargador                                       |\n",
    "| `length`             | Un número entero que representa la duración del video en minutos                                            |\n",
    "| `views`              | Un número entero que representa el número de visualizaciones del video                                      |\n",
    "| `rate`               | Un número flotante que indica la calificación del video                                                      |\n",
    "| `ratings`            | Un número entero que representa el número de calificaciones recibidas por el video                          |\n",
    "| `comments`           | Un número entero que indica el número de comentarios en el video                                            |\n",
    "| `related IDs`        | Hasta 20 cadenas de texto con los IDs de videos relacionados                                                |\n"
   ]
  },
  {
   "cell_type": "code",
   "execution_count": null,
   "metadata": {},
   "outputs": [],
   "source": [
    "import requests\n",
    "import zipfile\n",
    "import os\n",
    "\n",
    "# URL del archivo .zip\n",
    "url = 'https://netsg.cs.sfu.ca/youtubedata/0222.zip'\n",
    "\n",
    "# Descargar el archivo .zip\n",
    "zip_file = '0222.zip'\n",
    "with requests.get(url, stream=True) as r:\n",
    "    with open(zip_file, 'wb') as f:\n",
    "        for chunk in r.iter_content(chunk_size=8192):\n",
    "            f.write(chunk)\n",
    "\n",
    "# Crear una carpeta para los archivos descomprimidos\n",
    "extract_folder = 'youtubedata'\n",
    "os.makedirs(extract_folder, exist_ok=True)\n",
    "\n",
    "# Descomprimir el archivo .zip\n",
    "with zipfile.ZipFile(zip_file, 'r') as zip_ref:\n",
    "    zip_ref.extractall(extract_folder)\n",
    "\n",
    "print(f\"Archivos descomprimidos en {extract_folder}\")\n"
   ]
  },
  {
   "cell_type": "code",
   "execution_count": null,
   "metadata": {},
   "outputs": [],
   "source": [
    "import pandas as pd\n",
    "import os\n",
    "\n",
    "folder_path = 'youtubedata/0222'\n",
    "file_path = os.path.join(folder_path, '0.txt')\n",
    "df = pd.read_csv(file_path, sep='\\t', header=None)\n",
    "df.columns = ['VideoID', 'uploader', 'age', 'category', 'length', 'views', 'rate', 'ratings', 'comments', 'related_IDs','11','12','13','14','15','16','17','18','19','20','21','22','23','24','25','26','27','28','29']\n",
    "print(df.head())"
   ]
  },
  {
   "cell_type": "code",
   "execution_count": null,
   "metadata": {},
   "outputs": [],
   "source": [
    "df_filtered = df[['VideoID', 'age', 'category', 'views', 'rate']]\n",
    "\n",
    "categorias_interes = ['Music', 'Comedy']\n",
    "df_filtered = df_filtered[df_filtered['category'].isin(categorias_interes)]\n",
    "\n",
    "print(df_filtered.head())"
   ]
  },
  {
   "cell_type": "code",
   "execution_count": null,
   "metadata": {},
   "outputs": [],
   "source": [
    "from pymongo import MongoClient\n",
    "\n",
    "# Conectar a MongoDB\n",
    "client = MongoClient('mongodb://localhost:27017/')\n",
    "db = client['youtube_database']\n",
    "collection = db['youtube_videos']\n",
    "\n",
    "# Convertir el DataFrame a diccionarios e insertarlos en MongoDB\n",
    "data_dict = df_filtered.to_dict(orient='records')\n",
    "collection.insert_many(data_dict)\n",
    "\n",
    "print(\"Datos exportados a MongoDB correctamente.\")"
   ]
  }
 ],
 "metadata": {
  "language_info": {
   "name": "python"
  }
 },
 "nbformat": 4,
 "nbformat_minor": 2
}
